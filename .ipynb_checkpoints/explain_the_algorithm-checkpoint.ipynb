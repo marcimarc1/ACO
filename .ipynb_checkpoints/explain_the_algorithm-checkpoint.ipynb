{
 "cells": [
  {
   "cell_type": "code",
   "execution_count": 1,
   "metadata": {},
   "outputs": [],
   "source": [
    "import numpy as np \n",
    "import networkx as nx\n",
    "import matplotlib\n",
    "from visualization import *"
   ]
  },
  {
   "cell_type": "markdown",
   "metadata": {},
   "source": [
    "# Problem\n",
    "\n",
    "I need to find a way from my current location (Tübingen) to my Destination (München). I need to be there ASAP and I am already running late. (My reason might be an exam in my favorite subject on Biorobotics). The same problem might appear to find possible trajectories a robot can generate. "
   ]
  },
  {
   "cell_type": "code",
   "execution_count": 2,
   "metadata": {},
   "outputs": [],
   "source": [
    "distance = np.array( [[0, 1, 5, 0, 0, 0], #Tübingen\n",
    "                      [1, 0, 2, 0, 0, 0], #Stuttgart\n",
    "                      [5, 2, 0, 4, 3, 0], #Ulm\n",
    "                      [0, 0, 4, 0, 2, 2], #Memmingen\n",
    "                      [0, 0, 3, 2, 0, 2], #Augsburg\n",
    "                      [0, 0, 0, 2, 2, 0]])#München\n",
    "cities = ['Tuebingen', 'Stuttgart','Ulm', 'Memmingen', 'Augsburg', 'Muenchen']\n",
    "mapping = {}\n",
    "for i,j in enumerate(cities):\n",
    "    mapping[i] = j"
   ]
  },
  {
   "cell_type": "markdown",
   "metadata": {},
   "source": [
    "## Initialization of the Problem "
   ]
  },
  {
   "cell_type": "code",
   "execution_count": 3,
   "metadata": {},
   "outputs": [],
   "source": [
    "pheromone = np.ones(distance.shape)/len(distance) #initialize the pheromones constant over the graph\n",
    "all_inds = range(len(distance))\n",
    "decay = 0.9\n",
    "alpha = 1\n",
    "beta = 1\n",
    "update_factor = 1/len(distance)\n",
    "vis = Visualization(cities, mapping)"
   ]
  },
  {
   "cell_type": "code",
   "execution_count": 4,
   "metadata": {},
   "outputs": [
    {
     "name": "stderr",
     "output_type": "stream",
     "text": [
      "/home/marc/anaconda3/lib/python3.7/site-packages/networkx/drawing/layout.py:950: FutureWarning: arrays to stack must be passed as a \"sequence\" type such as list or tuple. Support for non-sequence iterables such as generators is deprecated as of NumPy 1.16 and will raise an error in the future.\n",
      "  pos = np.row_stack((pos[x] for x in node_list))\n"
     ]
    },
    {
     "data": {
      "image/png": "[encoded data removed]",
      "text/plain": [
       "<Figure size 432x288 with 1 Axes>"
      ]
     },
     "metadata": {},
     "output_type": "display_data"
    }
   ],
   "source": [
    "vis.show_distances(distance)"
   ]
  },
  {
   "cell_type": "markdown",
   "metadata": {},
   "source": [
    "## Start iterating with one ant over the graph  -> calculate movement probabilities"
   ]
  },
  {
   "cell_type": "markdown",
   "metadata": {},
   "source": [
    "$$p(c_j|s) = \\frac{t_{ij}^ \\alpha \\eta_{ij}^\\beta}{\\sum_i t_{ij}^ \\alpha \\eta_{ij}^\\beta}$$"
   ]
  },
  {
   "cell_type": "code",
   "execution_count": 28,
   "metadata": {},
   "outputs": [],
   "source": [
    "# some helper functions to ease the explanation\n",
    "def probabilities(pheromone, dist,state, visited):\n",
    "    pheromone = np.copy(pheromone)\n",
    "\n",
    "    d = dist[state]\n",
    "    d[list(visited)] = 0 \n",
    "    d[d==np.inf] = 0 \n",
    "    row = pheromone[state] ** alpha * (d **beta)\n",
    "    row[row==np.inf] = 0 \n",
    "    norm_row = row / row.sum()\n",
    "    try:\n",
    "        move = np.random.choice(all_inds, 1, p=norm_row)[0]\n",
    "        Flag = False\n",
    "    except:\n",
    "        move = 0\n",
    "        Flag = True\n",
    "    return norm_row, move, Flag"
   ]
  },
  {
   "cell_type": "code",
   "execution_count": 29,
   "metadata": {},
   "outputs": [
    {
     "name": "stderr",
     "output_type": "stream",
     "text": [
      "/home/marc/anaconda3/lib/python3.7/site-packages/ipykernel_launcher.py:7: RuntimeWarning: divide by zero encountered in true_divide\n",
      "  import sys\n"
     ]
    }
   ],
   "source": [
    "# we start at Tübingen\n",
    "start = 0 \n",
    "state = 0 \n",
    "# we want to reach Munich\n",
    "goal = 5\n",
    "visited = list()\n",
    "dist = 1/distance"
   ]
  },
  {
   "cell_type": "markdown",
   "metadata": {},
   "source": [
    "After initializing our start condition"
   ]
  },
  {
   "cell_type": "code",
   "execution_count": 45,
   "metadata": {},
   "outputs": [
    {
     "name": "stderr",
     "output_type": "stream",
     "text": [
      "/home/marc/anaconda3/lib/python3.7/site-packages/ipykernel_launcher.py:1: RuntimeWarning: divide by zero encountered in true_divide\n",
      "  \"\"\"Entry point for launching an IPython kernel.\n"
     ]
    },
    {
     "data": {
      "text/plain": [
       "array([0., 0., 0., 0., 0., 1.])"
      ]
     },
     "execution_count": 45,
     "metadata": {},
     "output_type": "execute_result"
    }
   ],
   "source": [
    "probs, move, Flag = probabilities(pheromone, 1/distance, state, visited)\n",
    "probs"
   ]
  },
  {
   "cell_type": "code",
   "execution_count": 46,
   "metadata": {},
   "outputs": [
    {
     "data": {
      "text/plain": [
       "5"
      ]
     },
     "execution_count": 46,
     "metadata": {},
     "output_type": "execute_result"
    }
   ],
   "source": [
    "visited.append(state)\n",
    "if Flag == True:\n",
    "    visited = list()\n",
    "state = move\n",
    "move"
   ]
  },
  {
   "cell_type": "markdown",
   "metadata": {},
   "source": [
    "## Update Pheromones"
   ]
  },
  {
   "cell_type": "markdown",
   "metadata": {},
   "source": [
    "$\\tau_{ij} \\leftarrow (1-\\rho)* \\tau_{ij} + \\rho* \\sum F(s)$"
   ]
  },
  {
   "cell_type": "code",
   "execution_count": 47,
   "metadata": {},
   "outputs": [],
   "source": [
    "def update_pheromones(pheromones,last_state, state, update_factor, rho):\n",
    "    up = np.zeros(pheromones[state].shape)\n",
    "    up[state] = 1\n",
    "    pheromones[last_state] = (1-rho)*pheromones[state] + rho * up\n",
    "    return pheromones"
   ]
  },
  {
   "cell_type": "code",
   "execution_count": 48,
   "metadata": {},
   "outputs": [],
   "source": [
    "pheromone = update_pheromones(pheromone, visited[-1],state, update_factor, rho=decay)"
   ]
  },
  {
   "cell_type": "code",
   "execution_count": 49,
   "metadata": {},
   "outputs": [
    {
     "name": "stdout",
     "output_type": "stream",
     "text": [
      "Updated pheromones\n"
     ]
    },
    {
     "data": {
      "image/png": "[encoded data removed]",
      "text/plain": [
       "<Figure size 432x288 with 1 Axes>"
      ]
     },
     "metadata": {},
     "output_type": "display_data"
    }
   ],
   "source": [
    "vis.show_pheromones(pheromone.T, state)"
   ]
  },
  {
   "cell_type": "markdown",
   "metadata": {},
   "source": [
    "# Class to Automate the Upper Process"
   ]
  },
  {
   "cell_type": "code",
   "execution_count": 12,
   "metadata": {},
   "outputs": [],
   "source": [
    "from AntColony import *"
   ]
  },
  {
   "cell_type": "code",
   "execution_count": 13,
   "metadata": {},
   "outputs": [],
   "source": [
    "Colony = AntColony(distance=distance,n_iterations=100, n_ants=100,alpha=1, beta=1, rho=0.5)"
   ]
  },
  {
   "cell_type": "code",
   "execution_count": 14,
   "metadata": {},
   "outputs": [
    {
     "name": "stderr",
     "output_type": "stream",
     "text": [
      "/home/marc/Desktop/ACO/AntColony.py:54: RuntimeWarning: divide by zero encountered in true_divide\n",
      "  dist = 1/dist\n",
      "/home/marc/Desktop/ACO/AntColony.py:62: RuntimeWarning: invalid value encountered in true_divide\n",
      "  norm_row = row / row.sum()\n"
     ]
    }
   ],
   "source": [
    "#Start: Tübingen , Goal: München\n",
    "Colony.run(start=0, goal=5)"
   ]
  },
  {
   "cell_type": "code",
   "execution_count": 15,
   "metadata": {},
   "outputs": [
    {
     "data": {
      "text/plain": [
       "[0, 1, 2, 4, 5]"
      ]
     },
     "execution_count": 15,
     "metadata": {},
     "output_type": "execute_result"
    }
   ],
   "source": [
    "Colony.pheromone_path(0,5)"
   ]
  },
  {
   "cell_type": "code",
   "execution_count": null,
   "metadata": {},
   "outputs": [],
   "source": []
  },
  {
   "cell_type": "code",
   "execution_count": null,
   "metadata": {},
   "outputs": [],
   "source": []
  }
 ],
 "metadata": {
  "kernelspec": {
   "display_name": "Python 3",
   "language": "python",
   "name": "python3"
  },
  "language_info": {
   "codemirror_mode": {
    "name": "ipython",
    "version": 3
   },
   "file_extension": ".py",
   "mimetype": "text/x-python",
   "name": "python",
   "nbconvert_exporter": "python",
   "pygments_lexer": "ipython3",
   "version": "3.7.6"
  }
 },
 "nbformat": 4,
 "nbformat_minor": 4
}
